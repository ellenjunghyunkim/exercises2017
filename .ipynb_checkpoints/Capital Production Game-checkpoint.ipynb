{
 "cells": [
  {
   "cell_type": "markdown",
   "metadata": {},
   "source": [
    "First, one codes a model function file that returns the values of the reward and transition functions at arbitrary vectors of :\n",
    "Assume that the market clearing price is a downward sloping linear function of the total quantity produced by both firms"
   ]
  },
  {
   "cell_type": "code",
   "execution_count": 1,
   "metadata": {
    "collapsed": true
   },
   "outputs": [],
   "source": [
    "using BasisMatrices\n",
    "using QuantEcon"
   ]
  },
  {
   "cell_type": "code",
   "execution_count": 2,
   "metadata": {},
   "outputs": [
    {
     "data": {
      "text/plain": [
       "BasisMatrix{BasisMatrices.Expanded} of order [0 0]"
      ]
     },
     "execution_count": 2,
     "metadata": {},
     "output_type": "execute_result"
    }
   ],
   "source": [
    "# set environment\n",
    "n = 8\n",
    "smin = 0.7\n",
    "smax = 1.3\n",
    "maxit = 1000\n",
    "tol = 0.0001\n",
    "\n",
    "# make collocation matrix\n",
    "sgrid0 = linspace(smin, smax, n)\n",
    "basis = Basis(SplineParams(sgrid0, 0, 3), SplineParams(sgrid0, 0, 3))\n",
    "S, (coordx, coordy) = nodes(basis)\n",
    "Φ = BasisMatrix(basis, Expanded(), S, 0)"
   ]
  },
  {
   "cell_type": "code",
   "execution_count": 3,
   "metadata": {},
   "outputs": [
    {
     "data": {
      "text/plain": [
       "cost (generic function with 1 method)"
      ]
     },
     "execution_count": 3,
     "metadata": {},
     "output_type": "execute_result"
    }
   ],
   "source": [
    "mutable struct CPG\n",
    "    alpha::Array{Float64,1}\n",
    "    beta::Array{Float64,1}\n",
    "    gamma::Array{Float64,1}\n",
    "    psi::Float64\n",
    "    delta::Float64\n",
    "end\n",
    "\n",
    "\n",
    "function cost( model::CPG, s::Array{Float64, 2})\n",
    "    box=zeros(size(S)[1], 2)\n",
    "    box[:,1]= model.beta[1]+( model.beta[2] ./ s[:,1])\n",
    "    box[:,2]= model.beta[1]+( model.beta[2] ./ s[:,2])\n",
    "    return box\n",
    "end"
   ]
  },
  {
   "cell_type": "code",
   "execution_count": 4,
   "metadata": {},
   "outputs": [
    {
     "data": {
      "text/plain": [
       "prof (generic function with 1 method)"
      ]
     },
     "execution_count": 4,
     "metadata": {},
     "output_type": "execute_result"
    }
   ],
   "source": [
    "function prof( model::CPG, cost::Array{Float64, 2})\n",
    "    return (model.alpha[1]-2*cost[:,1]+cost[:,2].^2)/(9*model.alpha[2])\n",
    "end"
   ]
  },
  {
   "cell_type": "code",
   "execution_count": 5,
   "metadata": {},
   "outputs": [
    {
     "data": {
      "text/plain": [
       "reward (generic function with 1 method)"
      ]
     },
     "execution_count": 5,
     "metadata": {},
     "output_type": "execute_result"
    }
   ],
   "source": [
    "#states s, actions x, and shocks e\n",
    "function reward( model::CPG, prof::Array{Float64, 1},x::Array{Float64, 2}, p::Int64)     \n",
    "    return prof-(model.gamma[1]*x[:,p]+0.5*model.gamma[2]*x[:,p].^2)\n",
    "end"
   ]
  },
  {
   "cell_type": "code",
   "execution_count": 6,
   "metadata": {},
   "outputs": [
    {
     "data": {
      "text/plain": [
       "capital (generic function with 1 method)"
      ]
     },
     "execution_count": 6,
     "metadata": {},
     "output_type": "execute_result"
    }
   ],
   "source": [
    "function capital( model::CPG, x::Array{Float64, 2}, s::Array{Float64, 2})     \n",
    "    return (1-psi)*s + x\n",
    "end"
   ]
  },
  {
   "cell_type": "code",
   "execution_count": 7,
   "metadata": {},
   "outputs": [
    {
     "data": {
      "text/plain": [
       "rewardx (generic function with 1 method)"
      ]
     },
     "execution_count": 7,
     "metadata": {},
     "output_type": "execute_result"
    }
   ],
   "source": [
    "# derivatives of  payoff, transition functions\n",
    "# reward function\n",
    "\n",
    "function rewardx( model::CPG, x::Array{Float64, 2}, s::Array{Float64, 2}) \n",
    "    n = size(s)[1]\n",
    "    fx = zeros(n,2);\n",
    "    fx[:,1] = -(model.gamma[1]+model.gamma[2]*x[:,1]);\n",
    "    return fx\n",
    "end"
   ]
  },
  {
   "cell_type": "code",
   "execution_count": 8,
   "metadata": {},
   "outputs": [
    {
     "data": {
      "text/plain": [
       "rewardxx (generic function with 1 method)"
      ]
     },
     "execution_count": 8,
     "metadata": {},
     "output_type": "execute_result"
    }
   ],
   "source": [
    "function rewardxx( model::CPG, x::Array{Float64, 2}, s::Array{Float64, 2}) \n",
    "    n = size(s)[1]\n",
    "    fxx= zeros(n,2,2)-gamma[2];\n",
    "    fxx[:,1,1] = zeros(n,1)-gamma[2];\n",
    "    fxx[:,2,2] = zeros(n,1)-gamma[2];\n",
    "    return fxx\n",
    "    end"
   ]
  },
  {
   "cell_type": "code",
   "execution_count": 9,
   "metadata": {},
   "outputs": [
    {
     "data": {
      "text/plain": [
       "capitalx (generic function with 1 method)"
      ]
     },
     "execution_count": 9,
     "metadata": {},
     "output_type": "execute_result"
    }
   ],
   "source": [
    "# transition function\n",
    "function capitalx( model::CPG, x::Array{Float64, 2}, s::Array{Float64, 2}) \n",
    "    n = size(s)[1]\n",
    "    gx = zeros(n,2,2);\n",
    "    gx[:,1,1] = ones(n,1);\n",
    "    gx[:,2,2] = ones(n,1);\n",
    "    return gx\n",
    "end"
   ]
  },
  {
   "cell_type": "code",
   "execution_count": 10,
   "metadata": {},
   "outputs": [
    {
     "data": {
      "text/plain": [
       "capitalxx (generic function with 1 method)"
      ]
     },
     "execution_count": 10,
     "metadata": {},
     "output_type": "execute_result"
    }
   ],
   "source": [
    "function capitalxx( model::CPG, x::Array{Float64, 2}, s::Array{Float64, 2}) \n",
    "    n = size(s)[1]\n",
    "    gxx = zeros(n,2,2,2)\n",
    "    return gxx\n",
    "end"
   ]
  },
  {
   "cell_type": "code",
   "execution_count": 17,
   "metadata": {},
   "outputs": [
    {
     "data": {
      "text/plain": [
       "vmax (generic function with 1 method)"
      ]
     },
     "execution_count": 17,
     "metadata": {},
     "output_type": "execute_result"
    }
   ],
   "source": [
    "# collocation function\n",
    "#The collocation method calls for the analyst to select n basis functions φj and n collocation nodes (k1i,k2i), and form the value function approximants Vp(k1,k2) ≈  nj=1 cpjφj(k1,k2) whose coefficients cpj solve the collocation equation\n",
    "\n",
    "function vmax(model::CPG, colnodes::Array{Float64, 2}, b, action::Array{Float64, 2}, coef::Array{Float64, 2})\n",
    "    xnew = action\n",
    "    v = zeros((size(colnodes)[1], 2))\n",
    "    c = cost(model, colnodes)\n",
    "    pr = prof(model, c)\n",
    "    for p in 1:2\n",
    "        xl, xu = 0.0, Inf*ones(n,2)\n",
    "        order1 = [0 0]\n",
    "        order1[1, p] = 1\n",
    "        order2 = [0 0]\n",
    "        order2[1, p] = 2\n",
    "        for it in 1:1\n",
    "            util, util_der1, util_der2 = reward(model, pr, action, p), rewardx(model, action, colnodes), rewardxx(model, action, colnodes) \n",
    "            Ev, Evx, Evxx = 0.0, 0.0, 0.0\n",
    "            transition, transition_der1, transition_der2 = capital(model, action, colnodes), capitalx(model, action, colnodes), capitalxx(model, action, colnodes)\n",
    "            vn = funeval(coef[:, p], b, transition)\n",
    "            vnder1 =  funeval(coef[:, p], b, transition, order1)\n",
    "            vnder2 = funeval(coef[:, p], b, transition, order2)\n",
    "            Ev =   vn\n",
    "            Evx =  vnder1.* transition_der1\n",
    "            Evxx =  vnder1.*transition_der2 + vnder2 .* (transition_der1.^2)\n",
    "            v[:, p] = util + Ev\n",
    "            delx = -(util_der1 + model.delta * Evx) ./ (util_der2 + model.delta*Evxx)\n",
    "            delx = min.(max.(delx, xl-action[:, p]), xu-action[:, p])\n",
    "            action[:, p] = action[:, p] + delx\n",
    "            if norm(delx) < tol\n",
    "                break\n",
    "            end\n",
    "        end\n",
    "        xnew[:, p] = action[:, p]\n",
    "    end\n",
    "    return v, xnew\n",
    "end"
   ]
  },
  {
   "cell_type": "code",
   "execution_count": 19,
   "metadata": {},
   "outputs": [
    {
     "ename": "LoadError",
     "evalue": "\u001b[91mUndefVarError: vnder1 not defined\u001b[39m",
     "output_type": "error",
     "traceback": [
      "\u001b[91mUndefVarError: vnder1 not defined\u001b[39m",
      "",
      "Stacktrace:",
      " [1] \u001b[1minclude_string\u001b[22m\u001b[22m\u001b[1m(\u001b[22m\u001b[22m::String, ::String\u001b[1m)\u001b[22m\u001b[22m at \u001b[1m./loading.jl:522\u001b[22m\u001b[22m"
     ]
    }
   ],
   "source": [
    "Evxx =  vnder1.*transition_der2 + vnder2 .* (transition_der1.^2)"
   ]
  },
  {
   "cell_type": "code",
   "execution_count": 29,
   "metadata": {},
   "outputs": [
    {
     "data": {
      "text/plain": [
       "100×1 Array{Float64,2}:\n",
       "  22656.9      \n",
       "  27294.8      \n",
       "  38376.3      \n",
       "  60041.7      \n",
       "  88604.3      \n",
       "      1.25015e5\n",
       "      1.70226e5\n",
       "      2.25189e5\n",
       "      2.67717e5\n",
       "      2.90853e5\n",
       "  27369.8      \n",
       "  32972.4      \n",
       "  46359.1      \n",
       "      ⋮        \n",
       "      3.23649e6\n",
       "      3.51616e6\n",
       "      2.97709e5\n",
       "      3.58658e5\n",
       " 504285.0      \n",
       "      7.88984e5\n",
       "      1.1643e6 \n",
       "      1.64273e6\n",
       "      2.23677e6\n",
       "      2.95891e6\n",
       "      3.51768e6\n",
       "      3.82165e6"
      ]
     },
     "execution_count": 29,
     "metadata": {},
     "output_type": "execute_result"
    }
   ],
   "source": [
    "transition = capital(model, x, S)\n",
    "order1 = [0 0]\n",
    "vnder1 =  funeval(initial[:, 1], basis, transition, order1)"
   ]
  },
  {
   "cell_type": "code",
   "execution_count": 30,
   "metadata": {},
   "outputs": [
    {
     "data": {
      "text/plain": [
       "100×2×2×2 Array{Float64,4}:\n",
       "[:, :, 1, 1] =\n",
       " 0.0  0.0\n",
       " 0.0  0.0\n",
       " 0.0  0.0\n",
       " 0.0  0.0\n",
       " 0.0  0.0\n",
       " 0.0  0.0\n",
       " 0.0  0.0\n",
       " 0.0  0.0\n",
       " 0.0  0.0\n",
       " 0.0  0.0\n",
       " 0.0  0.0\n",
       " 0.0  0.0\n",
       " 0.0  0.0\n",
       " ⋮       \n",
       " 0.0  0.0\n",
       " 0.0  0.0\n",
       " 0.0  0.0\n",
       " 0.0  0.0\n",
       " 0.0  0.0\n",
       " 0.0  0.0\n",
       " 0.0  0.0\n",
       " 0.0  0.0\n",
       " 0.0  0.0\n",
       " 0.0  0.0\n",
       " 0.0  0.0\n",
       " 0.0  0.0\n",
       "\n",
       "[:, :, 2, 1] =\n",
       " 0.0  0.0\n",
       " 0.0  0.0\n",
       " 0.0  0.0\n",
       " 0.0  0.0\n",
       " 0.0  0.0\n",
       " 0.0  0.0\n",
       " 0.0  0.0\n",
       " 0.0  0.0\n",
       " 0.0  0.0\n",
       " 0.0  0.0\n",
       " 0.0  0.0\n",
       " 0.0  0.0\n",
       " 0.0  0.0\n",
       " ⋮       \n",
       " 0.0  0.0\n",
       " 0.0  0.0\n",
       " 0.0  0.0\n",
       " 0.0  0.0\n",
       " 0.0  0.0\n",
       " 0.0  0.0\n",
       " 0.0  0.0\n",
       " 0.0  0.0\n",
       " 0.0  0.0\n",
       " 0.0  0.0\n",
       " 0.0  0.0\n",
       " 0.0  0.0\n",
       "\n",
       "[:, :, 1, 2] =\n",
       " 0.0  0.0\n",
       " 0.0  0.0\n",
       " 0.0  0.0\n",
       " 0.0  0.0\n",
       " 0.0  0.0\n",
       " 0.0  0.0\n",
       " 0.0  0.0\n",
       " 0.0  0.0\n",
       " 0.0  0.0\n",
       " 0.0  0.0\n",
       " 0.0  0.0\n",
       " 0.0  0.0\n",
       " 0.0  0.0\n",
       " ⋮       \n",
       " 0.0  0.0\n",
       " 0.0  0.0\n",
       " 0.0  0.0\n",
       " 0.0  0.0\n",
       " 0.0  0.0\n",
       " 0.0  0.0\n",
       " 0.0  0.0\n",
       " 0.0  0.0\n",
       " 0.0  0.0\n",
       " 0.0  0.0\n",
       " 0.0  0.0\n",
       " 0.0  0.0\n",
       "\n",
       "[:, :, 2, 2] =\n",
       " 0.0  0.0\n",
       " 0.0  0.0\n",
       " 0.0  0.0\n",
       " 0.0  0.0\n",
       " 0.0  0.0\n",
       " 0.0  0.0\n",
       " 0.0  0.0\n",
       " 0.0  0.0\n",
       " 0.0  0.0\n",
       " 0.0  0.0\n",
       " 0.0  0.0\n",
       " 0.0  0.0\n",
       " 0.0  0.0\n",
       " ⋮       \n",
       " 0.0  0.0\n",
       " 0.0  0.0\n",
       " 0.0  0.0\n",
       " 0.0  0.0\n",
       " 0.0  0.0\n",
       " 0.0  0.0\n",
       " 0.0  0.0\n",
       " 0.0  0.0\n",
       " 0.0  0.0\n",
       " 0.0  0.0\n",
       " 0.0  0.0\n",
       " 0.0  0.0"
      ]
     },
     "execution_count": 30,
     "metadata": {},
     "output_type": "execute_result"
    }
   ],
   "source": [
    "transition_der2 = capitalxx(model, x, S)"
   ]
  },
  {
   "cell_type": "code",
   "execution_count": 12,
   "metadata": {},
   "outputs": [
    {
     "data": {
      "text/plain": [
       "CPG([8.0, 4.0], [1.8, 0.2], [0.4, 3.0], 0.1, 0.9)"
      ]
     },
     "execution_count": 12,
     "metadata": {},
     "output_type": "execute_result"
    }
   ],
   "source": [
    "psi = 0.1;\n",
    "delta = 0.9;\n",
    "alpha = [8.0 , 4.0];\n",
    "beta  = [1.8 ,0.2];\n",
    "gamma = [0.4, 3.0];\n",
    "model=CPG(alpha, beta, gamma, psi, delta)"
   ]
  },
  {
   "cell_type": "code",
   "execution_count": 13,
   "metadata": {},
   "outputs": [
    {
     "data": {
      "text/plain": [
       "CPG([8.0, 4.0], [1.8, 0.2], [0.4, 3.0], 0.1, 0.9)"
      ]
     },
     "execution_count": 13,
     "metadata": {},
     "output_type": "execute_result"
    }
   ],
   "source": [
    "# set initials\n",
    "initial = rand((size(Φ.vals[1])[1]), 2)\n",
    "x = zeros((size(Φ.vals[1])[1]), 2)+1\n",
    "v = zeros((size(Φ.vals[1])[1]), 2)\n",
    "model = CPG([8.0,4.0], [1.8, 0.2],[0.4,3.0], 0.1, 0.9)"
   ]
  },
  {
   "cell_type": "code",
   "execution_count": 18,
   "metadata": {
    "scrolled": true
   },
   "outputs": [
    {
     "ename": "LoadError",
     "evalue": "\u001b[91mDimensionMismatch(\"dimensions must match\")\u001b[39m",
     "output_type": "error",
     "traceback": [
      "\u001b[91mDimensionMismatch(\"dimensions must match\")\u001b[39m",
      "",
      "Stacktrace:",
      " [1] \u001b[1mpromote_shape\u001b[22m\u001b[22m\u001b[1m(\u001b[22m\u001b[22m::NTuple{4,Base.OneTo{Int64}}, ::Tuple{Base.OneTo{Int64},Base.OneTo{Int64},Base.OneTo{Int64}}\u001b[1m)\u001b[22m\u001b[22m at \u001b[1m./indices.jl:84\u001b[22m\u001b[22m",
      " [2] \u001b[1mpromote_shape\u001b[22m\u001b[22m\u001b[1m(\u001b[22m\u001b[22m::Array{Float64,4}, ::Array{Float64,3}\u001b[1m)\u001b[22m\u001b[22m at \u001b[1m./indices.jl:70\u001b[22m\u001b[22m",
      " [3] \u001b[1m+\u001b[22m\u001b[22m\u001b[1m(\u001b[22m\u001b[22m::Array{Float64,4}, ::Array{Float64,3}\u001b[1m)\u001b[22m\u001b[22m at \u001b[1m./arraymath.jl:38\u001b[22m\u001b[22m",
      " [4] \u001b[1mvmax\u001b[22m\u001b[22m\u001b[1m(\u001b[22m\u001b[22m::CPG, ::Array{Float64,2}, ::BasisMatrices.Basis{2,Tuple{BasisMatrices.SplineParams{StepRangeLen{Float64,Base.TwicePrecision{Float64},Base.TwicePrecision{Float64}}},BasisMatrices.SplineParams{StepRangeLen{Float64,Base.TwicePrecision{Float64},Base.TwicePrecision{Float64}}}}}, ::Array{Float64,2}, ::Array{Float64,2}\u001b[1m)\u001b[22m\u001b[22m at \u001b[1m./In[17]:24\u001b[22m\u001b[22m",
      " [5] \u001b[1minclude_string\u001b[22m\u001b[22m\u001b[1m(\u001b[22m\u001b[22m::String, ::String\u001b[1m)\u001b[22m\u001b[22m at \u001b[1m./loading.jl:522\u001b[22m\u001b[22m"
     ]
    }
   ],
   "source": [
    "vmax(model,S,basis,x,initial)"
   ]
  },
  {
   "cell_type": "code",
   "execution_count": 46,
   "metadata": {},
   "outputs": [
    {
     "ename": "LoadError",
     "evalue": "\u001b[91mUndefVarError: w not defined\u001b[39m",
     "output_type": "error",
     "traceback": [
      "\u001b[91mUndefVarError: w not defined\u001b[39m",
      "",
      "Stacktrace:",
      " [1] \u001b[1mmacro expansion\u001b[22m\u001b[22m at \u001b[1m./In[46]:5\u001b[22m\u001b[22m [inlined]",
      " [2] \u001b[1manonymous\u001b[22m\u001b[22m at \u001b[1m./<missing>:?\u001b[22m\u001b[22m",
      " [3] \u001b[1minclude_string\u001b[22m\u001b[22m\u001b[1m(\u001b[22m\u001b[22m::String, ::String\u001b[1m)\u001b[22m\u001b[22m at \u001b[1m./loading.jl:522\u001b[22m\u001b[22m"
     ]
    }
   ],
   "source": [
    "#まだここまで至っていません\n",
    "#set initials\n",
    "srand(77)\n",
    "initial = rand((size(Φ.vals[1])[1]), 2)\n",
    "x = zeros((size(Φ.vals[1])[1]), 2)+1\n",
    "v = zeros((size(Φ.vals[1])[1]), 2)\n",
    "model = CPG([8.0,4.0], [1.8, 0.2],[0.4,3.0], 0.1, 0.9)\n",
    "\n",
    "# iteration for coefficients\n",
    "c = initial\n",
    "c_error = c\n",
    "count = 0\n",
    "for it in 1:10000\n",
    "    cold = c\n",
    "    vnew, x = vmax(model, S, basis, x, c, e, w)\n",
    "    c = Φ.vals[1] \\ vnew\n",
    "    v = vnew\n",
    "    c_error = cold - c\n",
    "    count += 1\n",
    "    if maximum(abs, cold - c) < tol\n",
    "        break\n",
    "    end\n",
    "end\n",
    "\n",
    "println(count)\n",
    "println(c_error)"
   ]
  },
  {
   "cell_type": "code",
   "execution_count": null,
   "metadata": {
    "collapsed": true
   },
   "outputs": [],
   "source": []
  }
 ],
 "metadata": {
  "kernelspec": {
   "display_name": "Julia 0.6.1",
   "language": "julia",
   "name": "julia-0.6"
  },
  "language_info": {
   "file_extension": ".jl",
   "mimetype": "application/julia",
   "name": "julia",
   "version": "0.6.1"
  }
 },
 "nbformat": 4,
 "nbformat_minor": 2
}
