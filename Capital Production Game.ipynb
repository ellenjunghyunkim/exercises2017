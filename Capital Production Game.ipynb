{
 "cells": [
  {
   "cell_type": "markdown",
   "metadata": {},
   "source": [
    "First, one codes a model function file that returns the values of the reward and transition functions at arbitrary vectors of :\n",
    "Assume that the market clearing price is a downward sloping linear function of the total quantity produced by both firms"
   ]
  },
  {
   "cell_type": "markdown",
   "metadata": {},
   "source": [
    "★s: state of system\n",
    "\n",
    "★x_i: is action (out of X)\n",
    "\n",
    "★x_t: all actions at t\n",
    "\n",
    "★x_-i: action taken by others\n",
    "\n",
    "★f_i (s,x_i, x_-i) is reward\n",
    "\n",
    "★state of system s_t+1 at t+1 depend on state  at t, actions of all m agents at t and a shock epsilon_t+1\n",
    "s_t+1=g(s_t, x_t, epsilon_t+1)\n",
    "\n",
    "★delta: discount per period factor\n",
    "\n",
    "★x_i*: optimal action to maximize current and future value\n",
    "\n",
    "★V: value function\n",
    "\n",
    "★V_i: maximum current and expected future rewards earned by agent i\n",
    "\n",
    "★k_i: capital\n",
    "\n",
    "★q_i: amount to be produced\n",
    "\n",
    "★c_i(q_i, k_i): production cost\n",
    "\n",
    "★p: p=P(q1, q2): market price\n",
    "\n",
    "★x_i: investment\n",
    "\n",
    "★h_i(x_i) cost caused by investing x_i\n",
    "\n",
    "★ξ : capital deprecation rate\n",
    "\n",
    "★capital at next period is (1-ξ )k_i+x_i\n",
    "\n",
    "★g(k1,k2,x1,x2,q1,q2)= ((1−ξ)k1 +x1,(1−ξ)k2 +x2) : state transition function\n",
    "\n",
    "★fi(k1, k2, x1, x2, q1, q2) = P (q1, q2)qi − ci(qi, ki) − hi(xi) : reward function\n",
    "\n",
    "★kˆi = (1−ξ)ki +xi \n",
    "\n",
    "★short-run profit, exclusive of investment costs : π_p(c1, c2) "
   ]
  },
  {
   "cell_type": "code",
   "execution_count": 1,
   "metadata": {
    "collapsed": true
   },
   "outputs": [],
   "source": [
    "using BasisMatrices\n",
    "using QuantEcon\n",
    "using PyPlot\n",
    "using Distributions"
   ]
  },
  {
   "cell_type": "code",
   "execution_count": 2,
   "metadata": {},
   "outputs": [
    {
     "data": {
      "text/plain": [
       "BasisMatrix{BasisMatrices.Expanded} of order [0 0]"
      ]
     },
     "execution_count": 2,
     "metadata": {},
     "output_type": "execute_result"
    }
   ],
   "source": [
    "# set environment\n",
    "n = 8\n",
    "smin = 0.7\n",
    "smax = 1.3\n",
    "maxit = 1000\n",
    "tol = 0.0001\n",
    "\n",
    "# make collocation matrix\n",
    "sgrid0 = linspace(smin, smax, n)\n",
    "basis = Basis(SplineParams(sgrid0, 0, 3), SplineParams(sgrid0, 0, 3))\n",
    "S, (coordx, coordy) = nodes(basis)\n",
    "Φ = BasisMatrix(basis, Expanded(), S, 0)"
   ]
  },
  {
   "cell_type": "code",
   "execution_count": 3,
   "metadata": {},
   "outputs": [
    {
     "data": {
      "text/plain": [
       "cost (generic function with 1 method)"
      ]
     },
     "execution_count": 3,
     "metadata": {},
     "output_type": "execute_result"
    }
   ],
   "source": [
    "mutable struct CPG\n",
    "    alpha::Array{Float64,1}\n",
    "    beta::Array{Float64,1}\n",
    "    gamma::Array{Float64,1}\n",
    "    psi::Float64\n",
    "    delta::Float64\n",
    "end\n",
    "\n",
    "\n",
    "function cost( model::CPG, s::Array{Float64, 2})\n",
    "    box=zeros(size(S)[1], 2)\n",
    "    box[:,1]= model.beta[1]+( model.beta[2] ./ s[:,1])\n",
    "    box[:,2]= model.beta[1]+( model.beta[2] ./ s[:,2])\n",
    "    return box\n",
    "end"
   ]
  },
  {
   "cell_type": "code",
   "execution_count": 4,
   "metadata": {},
   "outputs": [
    {
     "data": {
      "text/plain": [
       "prof (generic function with 1 method)"
      ]
     },
     "execution_count": 4,
     "metadata": {},
     "output_type": "execute_result"
    }
   ],
   "source": [
    "function prof( model::CPG, cost::Array{Float64, 2})\n",
    "    return (model.alpha[1]-2*cost[:,1]+cost[:,2]).^2/(9*model.alpha[2])\n",
    "end"
   ]
  },
  {
   "cell_type": "code",
   "execution_count": 5,
   "metadata": {},
   "outputs": [
    {
     "data": {
      "text/plain": [
       "reward (generic function with 1 method)"
      ]
     },
     "execution_count": 5,
     "metadata": {},
     "output_type": "execute_result"
    }
   ],
   "source": [
    "#states s, actions x, and shocks e\n",
    "function reward( model::CPG, prof::Array{Float64, 1},x::Array{Float64, 2}, p::Int64)     \n",
    "    return prof-(model.gamma[1]*x[:,p]+0.5*model.gamma[2]*x[:,p].^2)\n",
    "end"
   ]
  },
  {
   "cell_type": "code",
   "execution_count": 6,
   "metadata": {},
   "outputs": [
    {
     "data": {
      "text/plain": [
       "capital (generic function with 1 method)"
      ]
     },
     "execution_count": 6,
     "metadata": {},
     "output_type": "execute_result"
    }
   ],
   "source": [
    "function capital( model::CPG, x::Array{Float64, 2}, s::Array{Float64, 2})     \n",
    "    return (1-psi)*s + x\n",
    "end"
   ]
  },
  {
   "cell_type": "code",
   "execution_count": 7,
   "metadata": {},
   "outputs": [
    {
     "data": {
      "text/plain": [
       "rewardx (generic function with 1 method)"
      ]
     },
     "execution_count": 7,
     "metadata": {},
     "output_type": "execute_result"
    }
   ],
   "source": [
    "# derivatives of  payoff, transition functions\n",
    "# reward function\n",
    "\n",
    "function rewardx( model::CPG, x::Array{Float64, 2}, s::Array{Float64, 2}, p::Int) \n",
    "    n = size(s)[1]\n",
    "    fx = zeros(n,2);\n",
    "    fx[:,p] = -(model.gamma[1]+model.gamma[2]*x[:,p]);\n",
    "    return fx\n",
    "end"
   ]
  },
  {
   "cell_type": "code",
   "execution_count": 8,
   "metadata": {},
   "outputs": [
    {
     "data": {
      "text/plain": [
       "rewardxx (generic function with 1 method)"
      ]
     },
     "execution_count": 8,
     "metadata": {},
     "output_type": "execute_result"
    }
   ],
   "source": [
    "function rewardxx( model::CPG, x::Array{Float64, 2}, s::Array{Float64, 2},p::Int) \n",
    "    n = size(s)[1]\n",
    "    fxx= zeros(n,2,2)\n",
    "    fxx[:,p,p] = zeros(n,1)-gamma[2];\n",
    "    return fxx\n",
    "    end"
   ]
  },
  {
   "cell_type": "code",
   "execution_count": 9,
   "metadata": {},
   "outputs": [
    {
     "data": {
      "text/plain": [
       "capitalx (generic function with 1 method)"
      ]
     },
     "execution_count": 9,
     "metadata": {},
     "output_type": "execute_result"
    }
   ],
   "source": [
    "# transition function\n",
    "function capitalx( model::CPG, x::Array{Float64, 2}, s::Array{Float64, 2}) \n",
    "    n = size(s)[1]\n",
    "    gx = zeros(n,2,2);\n",
    "    gx[:,1,1] = ones(n,1);\n",
    "    gx[:,2,2] = ones(n,1);\n",
    "    return gx\n",
    "end"
   ]
  },
  {
   "cell_type": "code",
   "execution_count": 10,
   "metadata": {},
   "outputs": [
    {
     "data": {
      "text/plain": [
       "capitalxx (generic function with 1 method)"
      ]
     },
     "execution_count": 10,
     "metadata": {},
     "output_type": "execute_result"
    }
   ],
   "source": [
    "function capitalxx( model::CPG, x::Array{Float64, 2}, s::Array{Float64, 2}) \n",
    "    n = size(s)[1]\n",
    "    gxx = zeros(n,2,2,2)\n",
    "    return gxx\n",
    "end"
   ]
  },
  {
   "cell_type": "code",
   "execution_count": 11,
   "metadata": {},
   "outputs": [
    {
     "data": {
      "text/plain": [
       "vmax (generic function with 1 method)"
      ]
     },
     "execution_count": 11,
     "metadata": {},
     "output_type": "execute_result"
    }
   ],
   "source": [
    "# collocation function\n",
    "#The collocation method calls for the analyst to select n basis functions φj and n collocation nodes (k1i,k2i), and form the value function approximants Vp(k1,k2) ≈  nj=1 cpjφj(k1,k2) whose coefficients cpj solve the collocation equation\n",
    "\n",
    "function vmax(model::CPG, colnodes::Array{Float64, 2}, b, action::Array{Float64, 2}, coef::Array{Float64, 2})\n",
    "    xnew = action\n",
    "    v = zeros((size(colnodes)[1], 2))\n",
    "    c = cost(model, colnodes)\n",
    "    pr = prof(model, c)\n",
    "    for p in 1:2\n",
    "        xl, xu = 0.0, Inf\n",
    "        order1 = [0 0]\n",
    "        order1[1, p] = 1\n",
    "        order2 = [0 0]\n",
    "        order2[1, p] = 2\n",
    "        for it in 1:maxit\n",
    "            util, util_der1, util_der2 = \n",
    "            reward(model, pr, action, p), rewardx(model, action, colnodes,p), rewardxx(model, action, colnodes,p)[:,p,p] \n",
    "            Ev, Evx, Evxx = 0.0, 0.0, 0.0\n",
    "            transition, transition_der1, transition_der2 = \n",
    "            capital(model, action, colnodes), capitalx(model, action, colnodes)[:,:,p], capitalxx(model, action, colnodes)[:,:,p,p]\n",
    "            vn = funeval(coef[:, p], b, transition)\n",
    "            vnder1 =  funeval(coef[:, p], b, transition, order1)\n",
    "            vnder2 = funeval(coef[:, p], b, transition, order2)\n",
    "            Ev =   vn\n",
    "            Evx =  vnder1.* transition_der1\n",
    "            Evxx =  vnder1.*transition_der2 + vnder2 .* (transition_der1.^2)\n",
    "            \n",
    "            v[:, p] = util + model.delta*Ev\n",
    "            delx = -(util_der1 + model.delta * Evx) ./ (util_der2 .+ model.delta*Evxx)\n",
    "            \n",
    "            \n",
    "            delx = min.( xu-action[:, p])  \n",
    "            action[:, p] = action[:, p] + delx\n",
    "            \n",
    "            if norm(delx) < tol\n",
    "                break\n",
    "            end\n",
    "        end\n",
    "        xnew[:, p] = action[:, p]\n",
    "    end\n",
    "    return v, xnew\n",
    "end"
   ]
  },
  {
   "cell_type": "code",
   "execution_count": 12,
   "metadata": {},
   "outputs": [
    {
     "data": {
      "text/plain": [
       "CPG([8.0, 4.0], [1.8, 0.2], [0.4, 3.0], 0.1, 0.9)"
      ]
     },
     "execution_count": 12,
     "metadata": {},
     "output_type": "execute_result"
    }
   ],
   "source": [
    "psi = 0.1;\n",
    "delta = 0.9;\n",
    "alpha = [8.0 , 4.0];\n",
    "beta  = [1.8 ,0.2];\n",
    "gamma = [0.4, 3.0];\n",
    "model=CPG(alpha, beta, gamma, psi, delta)"
   ]
  },
  {
   "cell_type": "code",
   "execution_count": 13,
   "metadata": {},
   "outputs": [
    {
     "data": {
      "text/plain": [
       "CPG([8.0, 4.0], [1.8, 0.2], [0.4, 3.0], 0.1, 0.9)"
      ]
     },
     "execution_count": 13,
     "metadata": {},
     "output_type": "execute_result"
    }
   ],
   "source": [
    "# set initials\n",
    "initial = rand((size(Φ.vals[1])[1]), 2)\n",
    "x = zeros((size(Φ.vals[1])[1]), 2)+1\n",
    "v = zeros((size(Φ.vals[1])[1]), 2)\n",
    "model = CPG([8.0,4.0], [1.8, 0.2],[0.4,3.0], 0.1, 0.9)"
   ]
  },
  {
   "cell_type": "code",
   "execution_count": 14,
   "metadata": {
    "scrolled": true
   },
   "outputs": [
    {
     "data": {
      "text/plain": [
       "([NaN NaN; NaN NaN; … ; NaN NaN; NaN NaN], [NaN NaN; NaN NaN; … ; NaN NaN; NaN NaN])"
      ]
     },
     "execution_count": 14,
     "metadata": {},
     "output_type": "execute_result"
    }
   ],
   "source": [
    "vmax(model,S,basis,x,initial)"
   ]
  },
  {
   "cell_type": "code",
   "execution_count": null,
   "metadata": {
    "collapsed": true
   },
   "outputs": [],
   "source": [
    "#まだここまで至っていません\n",
    "#set initials\n",
    "srand(77)\n",
    "initial = rand((size(Φ.vals[1])[1]), 2)\n",
    "x = zeros((size(Φ.vals[1])[1]), 2)+1\n",
    "v = zeros((size(Φ.vals[1])[1]), 2)\n",
    "model = CPG([8.0,4.0], [1.8, 0.2],[0.4,3.0], 0.1, 0.9)\n",
    "\n",
    "# iteration for coefficients\n",
    "c = initial\n",
    "c_error = c\n",
    "count = 0\n",
    "for it in 1:10000\n",
    "    cold = c\n",
    "    vnew, x = vmax(model, S, basis, x, c, )\n",
    "    c = Φ.vals[1] \\ vnew\n",
    "    v = vnew\n",
    "    c_error = cold - c\n",
    "    count += 1\n",
    "    if maximum(abs, cold - c) < tol\n",
    "        break\n",
    "    end\n",
    "end"
   ]
  },
  {
   "cell_type": "code",
   "execution_count": null,
   "metadata": {
    "collapsed": true
   },
   "outputs": [],
   "source": [
    "xgrid = zeros((n+2, n+2))\n",
    "ygrid = zeros((n+2, n+2))\n",
    "for i in 1:n+2\n",
    "    xgrid[i, :] = coordx\n",
    "end\n",
    "for i in 1:n+2\n",
    "    ygrid[:, i] = coordy\n",
    "end\n",
    "z = reshape(x[:, 1], n+2, n+2);"
   ]
  },
  {
   "cell_type": "code",
   "execution_count": null,
   "metadata": {
    "collapsed": true
   },
   "outputs": [],
   "source": [
    "# policy function for player 1\n",
    "surf(xgrid, ygrid, z)"
   ]
  },
  {
   "cell_type": "code",
   "execution_count": null,
   "metadata": {
    "collapsed": true
   },
   "outputs": [],
   "source": [
    "z_v = reshape(v[:, 1], n+2, n+2);\n",
    "# value function for player 1\n",
    "surf(xgrid, ygrid, z_v)"
   ]
  }
 ],
 "metadata": {
  "kernelspec": {
   "display_name": "Julia 0.6.1",
   "language": "julia",
   "name": "julia-0.6"
  },
  "language_info": {
   "file_extension": ".jl",
   "mimetype": "application/julia",
   "name": "julia",
   "version": "0.6.1"
  }
 },
 "nbformat": 4,
 "nbformat_minor": 2
}
