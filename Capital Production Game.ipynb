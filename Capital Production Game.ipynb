{
 "cells": [
  {
   "cell_type": "code",
   "execution_count": 16,
   "metadata": {},
   "outputs": [
    {
     "data": {
      "text/plain": [
       "Plots.PlotlyJSBackend()"
      ]
     },
     "execution_count": 16,
     "metadata": {},
     "output_type": "execute_result"
    }
   ],
   "source": [
    "using BasisMatrices\n",
    "using QuantEcon\n",
    "using Plots\n",
    "plotlyjs( )"
   ]
  },
  {
   "cell_type": "code",
   "execution_count": 17,
   "metadata": {},
   "outputs": [
    {
     "data": {
      "text/plain": [
       "BasisMatrix{BasisMatrices.Expanded} of order [0 0]"
      ]
     },
     "execution_count": 17,
     "metadata": {},
     "output_type": "execute_result"
    }
   ],
   "source": [
    "# set environment\n",
    "n = 8\n",
    "smin = 0.7\n",
    "smax = 1.3\n",
    "maxit = 1000\n",
    "# num_nodes is for gaussian quadrature\n",
    "num_nodes = 3\n",
    "tol = 0.0001\n",
    "\n",
    "\n",
    "# make collocation matrix\n",
    "sgrid0 = linspace(smin, smax, n)\n",
    "basis = Basis(SplineParams(sgrid0, 0, 3), SplineParams(sgrid0, 0, 3))\n",
    "S, (coordx, coordy) = nodes(basis)\n",
    "Φ = BasisMatrix(basis, Expanded(), S, 0)"
   ]
  },
  {
   "cell_type": "code",
   "execution_count": 18,
   "metadata": {},
   "outputs": [
    {
     "data": {
      "text/plain": [
       "cost (generic function with 1 method)"
      ]
     },
     "execution_count": 18,
     "metadata": {},
     "output_type": "execute_result"
    }
   ],
   "source": [
    "mutable struct CPG\n",
    "    alpha::Array{Float64,1}\n",
    "    beta::Array{Float64,1}\n",
    "    gamma::Array{Float64,1}\n",
    "    sigma::Array{Float64,1}\n",
    "    psi::Float64\n",
    "    delta::Float64\n",
    "end\n",
    "\n",
    "\n",
    "function cost( model::CPG, s::Array{Float64, 2}, p::Int64)\n",
    "    return model.beta[1]+( model.beta[2] ./ s(:,p))\n",
    "end"
   ]
  },
  {
   "cell_type": "code",
   "execution_count": 19,
   "metadata": {},
   "outputs": [
    {
     "data": {
      "text/plain": [
       "prof (generic function with 1 method)"
      ]
     },
     "execution_count": 19,
     "metadata": {},
     "output_type": "execute_result"
    }
   ],
   "source": [
    "function prof( model::CPG, cost::Array{Float64, 2})\n",
    "    return (model.alpha[1]-2*cost(1)+cost(2).^2)/(9*model.alpha[2])\n",
    "end"
   ]
  },
  {
   "cell_type": "code",
   "execution_count": 20,
   "metadata": {},
   "outputs": [
    {
     "data": {
      "text/plain": [
       "reward (generic function with 1 method)"
      ]
     },
     "execution_count": 20,
     "metadata": {},
     "output_type": "execute_result"
    }
   ],
   "source": [
    "function reward( model::CPG, prof::Array{Float64, 2},x::Array{Float64, 2}, p::Int64)     \n",
    "    return prof-(model.gamma[1]*x[:,p]+0.5*model.gamma(2)*x[:,p].^2)\n",
    "end"
   ]
  },
  {
   "cell_type": "code",
   "execution_count": 21,
   "metadata": {},
   "outputs": [
    {
     "data": {
      "text/plain": [
       "capital (generic function with 1 method)"
      ]
     },
     "execution_count": 21,
     "metadata": {},
     "output_type": "execute_result"
    }
   ],
   "source": [
    "function capital( model::CPG, x::Array{Float64, 2}, s::Array{Float64, 2},p::Int64)     \n",
    "    return (1-psi)*s + x\n",
    "end"
   ]
  },
  {
   "cell_type": "code",
   "execution_count": 22,
   "metadata": {},
   "outputs": [
    {
     "data": {
      "text/plain": [
       "rewardx (generic function with 1 method)"
      ]
     },
     "execution_count": 22,
     "metadata": {},
     "output_type": "execute_result"
    }
   ],
   "source": [
    "# derivatives of  payoff, transition functions\n",
    "# reward function\n",
    "\n",
    "function rewardx( model::CPG, x::Array{Float64, 2}, p::Int64) \n",
    "    return -(model.gamma[1]+model.gamma[2]*x(:,p))\n",
    "end"
   ]
  },
  {
   "cell_type": "code",
   "execution_count": 23,
   "metadata": {},
   "outputs": [
    {
     "data": {
      "text/plain": [
       "rewardxx (generic function with 1 method)"
      ]
     },
     "execution_count": 23,
     "metadata": {},
     "output_type": "execute_result"
    }
   ],
   "source": [
    "function rewardxx( model::CPG, x::Array{Float64, 2}, p::Int64) \n",
    "    return -(model.gamma[2])\n",
    "end"
   ]
  },
  {
   "cell_type": "code",
   "execution_count": 24,
   "metadata": {},
   "outputs": [
    {
     "data": {
      "text/plain": [
       "capitalx (generic function with 1 method)"
      ]
     },
     "execution_count": 24,
     "metadata": {},
     "output_type": "execute_result"
    }
   ],
   "source": [
    "# transition function\n",
    "function capitalx( model::CPG, x::Array{Float64, 2}, s::Array{Float64, 2},p::Int64) \n",
    "    return ones(n,1)\n",
    "end"
   ]
  },
  {
   "cell_type": "code",
   "execution_count": 25,
   "metadata": {},
   "outputs": [
    {
     "data": {
      "text/plain": [
       "capitalxx (generic function with 1 method)"
      ]
     },
     "execution_count": 25,
     "metadata": {},
     "output_type": "execute_result"
    }
   ],
   "source": [
    "function capitalxx( model::CPG, x::Array{Float64, 2}, s::Array{Float64, 2},p::Int64) \n",
    "    gxx = zeros(n,ds,dx,dx)\n",
    "end"
   ]
  },
  {
   "cell_type": "code",
   "execution_count": 26,
   "metadata": {},
   "outputs": [
    {
     "data": {
      "text/plain": [
       "gq (generic function with 1 method)"
      ]
     },
     "execution_count": 26,
     "metadata": {},
     "output_type": "execute_result"
    }
   ],
   "source": [
    "# Gaussian Quadrature\n",
    "function gq(model::CPG, num_nodes::Int64)\n",
    "    return qnwlogn([num_nodes, num_nodes], [0,0], diagm([model.sigma[1]^2, model.sigma[2]^2]))\n",
    "end"
   ]
  },
  {
   "cell_type": "code",
   "execution_count": 27,
   "metadata": {},
   "outputs": [
    {
     "data": {
      "text/plain": [
       "vmax (generic function with 1 method)"
      ]
     },
     "execution_count": 27,
     "metadata": {},
     "output_type": "execute_result"
    }
   ],
   "source": [
    "# collocation function\n",
    "function vmax(model::CPG, colnodes::Array{Float64, 2}, b, action::Array{Float64, 2}, coef::Array{Float64, 2}, epss::Array{Float64, 2}, weights::Array{Float64, 1})\n",
    "    xnew = action\n",
    "    v = zeros((size(colnodes)[1], 2))\n",
    "    for p in 1:2\n",
    "        xl, xu = 0.0, colnodes[:, p]\n",
    "        order1 = [0 0]\n",
    "        order1[1, p] = 1\n",
    "        order2 = [0 0]\n",
    "        order2[1, p] = 2\n",
    "        for it in 1:maxit\n",
    "            util, util_der1, util_der2 = reward(model, colnodes, action, p), rewardx(model, colnodes, action, p), rewardxx(model, colnodes, action, p) \n",
    "            Ev, Evx, Evxx = 0.0, 0.0, 0.0\n",
    "            for k in 1:num_nodes^2\n",
    "                eps, weight= epss[k, :], weights[k]\n",
    "                transition, transition_der1, transition_der2 = capital(model, action, eps), capitalx(model, action, eps, p), capitalxx(model, action, eps, p)\n",
    "                vn = funeval(coef[:, p], b, transition)\n",
    "                vnder1 =  funeval(coef[:, p], b, transition, order1)\n",
    "                vnder2 = funeval(coef[:, p], b, transition, order2)\n",
    "                Ev += weight * vn\n",
    "                Evx += weight* vnder1.* transition_der1\n",
    "                Evxx += weight * (vnder1.*transition_der2 + vnder2 .* (transition_der1.^2))\n",
    "            end\n",
    "            v[:, p] = util + Ev\n",
    "            delx = -(util_der1 + model.delta * Evx) ./ (util_der2 + model.delta*Evxx)\n",
    "            delx = min.(max.(delx, xl-action[:, p]), xu-action[:, p])\n",
    "            action[:, p] = action[:, p] + delx\n",
    "            if norm(delx) < tol\n",
    "                break\n",
    "            end\n",
    "        end\n",
    "        xnew[:, p] = action[:, p]\n",
    "    end\n",
    "    return v, xnew\n",
    "end"
   ]
  },
  {
   "cell_type": "code",
   "execution_count": 28,
   "metadata": {},
   "outputs": [
    {
     "data": {
      "text/plain": [
       "([0.840965 0.840965; 1.0 0.840965; … ; 1.0 1.18911; 1.18911 1.18911], [0.0277778, 0.111111, 0.0277778, 0.111111, 0.444444, 0.111111, 0.0277778, 0.111111, 0.0277778])"
      ]
     },
     "execution_count": 28,
     "metadata": {},
     "output_type": "execute_result"
    }
   ],
   "source": [
    "# set initials\n",
    "# num_nodesが3ならsrand(1234)\n",
    "srand(12347)\n",
    "initial = rand((size(Φ.vals[1])[1]), 2)\n",
    "x = zeros((size(Φ.vals[1])[1]), 2)+1\n",
    "v = zeros((size(Φ.vals[1])[1]), 2)\n",
    "model = CPG([8.0,4.0], [1.8, 0.2],[0.4,3.0], [0.1,0.1], 0.1, 0.9)\n",
    "e, w = gq(model, num_nodes)\n"
   ]
  },
  {
   "cell_type": "code",
   "execution_count": 30,
   "metadata": {},
   "outputs": [
    {
     "ename": "LoadError",
     "evalue": "\u001b[91mMethodError: no method matching getindex(::#vmax, ::CPG, ::Array{Float64,2}, ::BasisMatrices.Basis{2,Tuple{BasisMatrices.SplineParams{StepRangeLen{Float64,Base.TwicePrecision{Float64},Base.TwicePrecision{Float64}}},BasisMatrices.SplineParams{StepRangeLen{Float64,Base.TwicePrecision{Float64},Base.TwicePrecision{Float64}}}}}, ::Array{Float64,2}, ::Array{Float64,2}, ::Array{Float64,2}, ::Array{Float64,1})\u001b[39m",
     "output_type": "error",
     "traceback": [
      "\u001b[91mMethodError: no method matching getindex(::#vmax, ::CPG, ::Array{Float64,2}, ::BasisMatrices.Basis{2,Tuple{BasisMatrices.SplineParams{StepRangeLen{Float64,Base.TwicePrecision{Float64},Base.TwicePrecision{Float64}}},BasisMatrices.SplineParams{StepRangeLen{Float64,Base.TwicePrecision{Float64},Base.TwicePrecision{Float64}}}}}, ::Array{Float64,2}, ::Array{Float64,2}, ::Array{Float64,2}, ::Array{Float64,1})\u001b[39m",
      "",
      "Stacktrace:",
      " [1] \u001b[1mmacro expansion\u001b[22m\u001b[22m at \u001b[1m./In[30]:5\u001b[22m\u001b[22m [inlined]",
      " [2] \u001b[1manonymous\u001b[22m\u001b[22m at \u001b[1m./<missing>:?\u001b[22m\u001b[22m",
      " [3] \u001b[1minclude_string\u001b[22m\u001b[22m\u001b[1m(\u001b[22m\u001b[22m::String, ::String\u001b[1m)\u001b[22m\u001b[22m at \u001b[1m./loading.jl:522\u001b[22m\u001b[22m"
     ]
    }
   ],
   "source": [
    "# iteration for coefficients\n",
    "c = initial\n",
    "for it in 1:3\n",
    "    cold = c\n",
    "    vnew, x = vmax[model, S, basis, x, c, e, w]\n",
    "    c = Φ.vals[1] \\ vnew\n",
    "    v = vnew\n",
    "    if norm(cold - c) < tol\n",
    "        break\n",
    "    end\n",
    "end"
   ]
  },
  {
   "cell_type": "code",
   "execution_count": null,
   "metadata": {
    "collapsed": true
   },
   "outputs": [],
   "source": []
  }
 ],
 "metadata": {
  "kernelspec": {
   "display_name": "Julia 0.6.1",
   "language": "julia",
   "name": "julia-0.6"
  },
  "language_info": {
   "file_extension": ".jl",
   "mimetype": "application/julia",
   "name": "julia",
   "version": "0.6.1"
  }
 },
 "nbformat": 4,
 "nbformat_minor": 2
}
